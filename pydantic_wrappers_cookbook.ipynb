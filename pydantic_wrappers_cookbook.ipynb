{
 "cells": [
  {
   "cell_type": "code",
   "execution_count": 140,
   "metadata": {},
   "outputs": [],
   "source": [
    "from pydantic import BaseModel, Field, PrivateAttr, create_model\n",
    "from typing import List, Literal, Union\n",
    "\n",
    "class ModifiedBaseModel(BaseModel):\n",
    "    _is_wrapped = PrivateAttr(default=False)\n",
    "      \n",
    "    @classmethod\n",
    "    def wrap_model(cls, \n",
    "                   with_reasoning: bool = True,\n",
    "                   to_list: bool = True) -> BaseModel:\n",
    "\n",
    "        original_name: str = cls.__name__\n",
    "        prefix: str = \"ListOf\" if to_list else \"\"\n",
    "        suffix: str = \"WithReasoning\" if with_reasoning else \"\"\n",
    "        modified_name: str = f\"{prefix}{original_name}{suffix}\"\n",
    "        args: dict = {\"_is_wrapped\": PrivateAttr(default=True),\n",
    "                      \"_original_name\": PrivateAttr(default=original_name),\n",
    "                      \"__base__\":ModifiedBaseModel}\n",
    "        \n",
    "        if with_reasoning:\n",
    "            args['reasoning'] = (str, Field(description=\"Explain your actions here.\"))\n",
    "        \n",
    "        args[original_name.lower()] = (\n",
    "            List[cls] if to_list else cls,\n",
    "            Field(description=f\"Provide your final answer {'as a list of' if to_list else 'here as'} {original_name}.\")\n",
    "        )\n",
    "\n",
    "        return create_model(modified_name, **args)\n",
    "    \n",
    "    def unwrap_model(self):\n",
    "        origin = getattr(self, self._original_name.lower())\n",
    "        if isinstance(origin, list) and next(iter(origin))._is_wrapped:\n",
    "            return [model.unwrap_model() for model in origin]\n",
    "        return origin"
   ]
  },
  {
   "cell_type": "code",
   "execution_count": 144,
   "metadata": {},
   "outputs": [],
   "source": [
    "class Joke(ModifiedBaseModel):\n",
    "    setup: str\n",
    "    punchline: str"
   ]
  },
  {
   "cell_type": "code",
   "execution_count": 156,
   "metadata": {},
   "outputs": [],
   "source": [
    "model_0 = Joke.wrap_model(with_reasoning=True, to_list=False)\n",
    "model_1 = (Joke\n",
    "           .wrap_model(with_reasoning=True, to_list=False)\n",
    "           .wrap_model(with_reasoning=True, to_list=True)\n",
    "           )"
   ]
  },
  {
   "cell_type": "code",
   "execution_count": 157,
   "metadata": {},
   "outputs": [],
   "source": [
    "test_model_1 = model_1(\n",
    "    reasoning=\"These jokes are effective because they use wordplay and subvert expectations, making them entertaining and memorable.\",\n",
    "    jokewithreasoning=[\n",
    "        {\n",
    "            \"reasoning\": \"This joke uses a classic setup with a scientific twist, leading to a clever punchline that plays on the dual meaning of 'make up'.\",\n",
    "            \"joke\": {\n",
    "                \"setup\": \"Why don't scientists trust atoms?\",\n",
    "                \"punchline\": \"Because they make up everything!\"\n",
    "            }\n",
    "        },\n",
    "        {\n",
    "            \"reasoning\": \"This joke leverages the double meaning of 'outstanding in his field' to create humor through a pun.\",\n",
    "            \"joke\": {\n",
    "                \"setup\": \"Why did the scarecrow become a successful neurosurgeon?\",\n",
    "                \"punchline\": \"Because he was outstanding in his field!\"\n",
    "            }\n",
    "        }\n",
    "    ]\n",
    ")\n",
    "\n",
    "test_model_0 = model_0(\n",
    "    reasoning=\"This joke is humorous due to its use of a pun and the unexpected twist in the punchline.\",\n",
    "    joke={\n",
    "        \"setup\": \"I would tell you a construction joke,\",\n",
    "        \"punchline\": \"but I'm still working on it.\"\n",
    "    }\n",
    ")\n"
   ]
  },
  {
   "cell_type": "code",
   "execution_count": 158,
   "metadata": {},
   "outputs": [
    {
     "data": {
      "text/plain": [
       "[Joke(setup=\"Why don't scientists trust atoms?\", punchline='Because they make up everything!'),\n",
       " Joke(setup='Why did the scarecrow become a successful neurosurgeon?', punchline='Because he was outstanding in his field!')]"
      ]
     },
     "execution_count": 158,
     "metadata": {},
     "output_type": "execute_result"
    }
   ],
   "source": [
    "test_model_1.unwrap_model()"
   ]
  },
  {
   "cell_type": "code",
   "execution_count": 159,
   "metadata": {},
   "outputs": [
    {
     "data": {
      "text/plain": [
       "Joke(setup='I would tell you a construction joke,', punchline=\"but I'm still working on it.\")"
      ]
     },
     "execution_count": 159,
     "metadata": {},
     "output_type": "execute_result"
    }
   ],
   "source": [
    "test_model_0.unwrap_model()"
   ]
  }
 ],
 "metadata": {
  "kernelspec": {
   "display_name": "Python (myenv)",
   "language": "python",
   "name": "myenv"
  },
  "language_info": {
   "codemirror_mode": {
    "name": "ipython",
    "version": 3
   },
   "file_extension": ".py",
   "mimetype": "text/x-python",
   "name": "python",
   "nbconvert_exporter": "python",
   "pygments_lexer": "ipython3",
   "version": "3.12.4"
  }
 },
 "nbformat": 4,
 "nbformat_minor": 2
}
